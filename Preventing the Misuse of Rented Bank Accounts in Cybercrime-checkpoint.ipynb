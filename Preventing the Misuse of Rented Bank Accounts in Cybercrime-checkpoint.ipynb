{
 "cells": [
  {
   "cell_type": "markdown",
   "id": "c6bdacdc-51ea-4d0e-949d-c0c3f7ecebc0",
   "metadata": {},
   "source": [
    "### Importing libraries"
   ]
  },
  {
   "cell_type": "code",
   "execution_count": 2,
   "id": "96c8e325-06f4-4e8d-82f5-28c8292a01c7",
   "metadata": {},
   "outputs": [],
   "source": [
    "import pandas as pd\n",
    "import numpy as np\n",
    "import matplotlib.pyplot as plt\n",
    "import seaborn as sns\n",
    "%matplotlib inline\n",
    "pd.options.display.float_format = '{:.2f}'.format"
   ]
  },
  {
   "cell_type": "code",
   "execution_count": 3,
   "id": "d19c645d-ada6-4eab-9073-c1e41dd8f4da",
   "metadata": {},
   "outputs": [],
   "source": [
    "# Download necessary NLP resources (if required)"
   ]
  },
  {
   "cell_type": "code",
   "execution_count": 4,
   "id": "780aaf33-c97e-403d-a44b-2d72556b3a85",
   "metadata": {},
   "outputs": [
    {
     "name": "stdout",
     "output_type": "stream",
     "text": [
      "Environment setup complete. Ready for further development.\n"
     ]
    }
   ],
   "source": [
    "print(\"Environment setup complete. Ready for further development.\")"
   ]
  },
  {
   "cell_type": "code",
   "execution_count": null,
   "id": "dc13406a-0ce2-4dfd-b35d-b075e937d45e",
   "metadata": {},
   "outputs": [],
   "source": []
  }
 ],
 "metadata": {
  "kernelspec": {
   "display_name": "Python 3 (ipykernel)",
   "language": "python",
   "name": "python3"
  },
  "language_info": {
   "codemirror_mode": {
    "name": "ipython",
    "version": 3
   },
   "file_extension": ".py",
   "mimetype": "text/x-python",
   "name": "python",
   "nbconvert_exporter": "python",
   "pygments_lexer": "ipython3",
   "version": "3.12.4"
  }
 },
 "nbformat": 4,
 "nbformat_minor": 5
}
